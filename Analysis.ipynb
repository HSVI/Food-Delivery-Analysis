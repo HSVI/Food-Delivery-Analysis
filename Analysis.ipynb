{
 "cells": [
  {
   "cell_type": "markdown",
   "id": "029843e0-3dc5-4ce3-89da-8c1c7b1d3540",
   "metadata": {},
   "source": [
    "# 1 Project overview"
   ]
  },
  {
   "cell_type": "markdown",
   "id": "993b3d04-893d-4802-bb08-0aa1ad619251",
   "metadata": {},
   "source": [
    "**About Dataset** </br>\n",
    "A food delivery service is facing challenges in achieving profitability across its operations. With a dataset of 1,000 food orders, the service seeks to understand the dynamics of its cost structure and profitability to identify strategic opportunities for improvement.</br>\n",
    "\n",
    "The dataset contains comprehensive details on food orders, including Order ID, Customer ID, Restaurant ID, Order and Delivery Date and Time, Order Value, Delivery Fee, Payment Method, Discounts and Offers, Commission Fee, Payment Processing Fee, and Refunds/Chargebacks. This data provides a foundation for analyzing the cost structure and profitability of the food delivery service.\n",
    "\n",
    "**Objectives:**\n",
    "\n",
    "- Cost Analysis\n",
    "- Profitability Evaluation\n",
    "- Restaurants Analysis"
   ]
  },
  {
   "cell_type": "markdown",
   "id": "c1fde7bd-47e8-4280-9c94-743e86fb116f",
   "metadata": {
    "jp-MarkdownHeadingCollapsed": true
   },
   "source": [
    "# 2 Preparation"
   ]
  },
  {
   "cell_type": "markdown",
   "id": "593c5cd7-cadf-4a70-af33-e2251a2dde1d",
   "metadata": {},
   "source": [
    "## 2.1 Importing libraries"
   ]
  },
  {
   "cell_type": "code",
   "execution_count": 1,
   "id": "9aef4d66-b1b4-4913-8117-9d70338b94e4",
   "metadata": {},
   "outputs": [],
   "source": [
    "import pandas as pd\n",
    "import matplotlib.pyplot as plt\n",
    "import seaborn as sns"
   ]
  },
  {
   "cell_type": "markdown",
   "id": "0f774026-dd23-4411-ad14-3f5f77672ef1",
   "metadata": {},
   "source": [
    "## 2.2 Reading dataset"
   ]
  },
  {
   "cell_type": "code",
   "execution_count": 75,
   "id": "b14c5798-fb19-436d-a935-4f7fc9d3d78e",
   "metadata": {},
   "outputs": [],
   "source": [
    "df = pd.read_csv(r\"D:\\Projects\\Data science\\Food delivery company\\food_orders_new_delhi.csv\")"
   ]
  },
  {
   "cell_type": "markdown",
   "id": "720ca90c-57f1-43ad-9677-9e57f345f63e",
   "metadata": {
    "jp-MarkdownHeadingCollapsed": true
   },
   "source": [
    "# 3 Initial screening"
   ]
  },
  {
   "cell_type": "code",
   "execution_count": 7,
   "id": "1d447093-48b6-4a37-8fae-7af6893cc572",
   "metadata": {},
   "outputs": [
    {
     "data": {
      "text/plain": [
       "(1000, 12)"
      ]
     },
     "execution_count": 7,
     "metadata": {},
     "output_type": "execute_result"
    }
   ],
   "source": [
    "df.shape"
   ]
  },
  {
   "cell_type": "code",
   "execution_count": 22,
   "id": "586ed015-1c88-4d22-8020-1d7f93379d02",
   "metadata": {},
   "outputs": [
    {
     "data": {
      "text/html": [
       "<div>\n",
       "<style scoped>\n",
       "    .dataframe tbody tr th:only-of-type {\n",
       "        vertical-align: middle;\n",
       "    }\n",
       "\n",
       "    .dataframe tbody tr th {\n",
       "        vertical-align: top;\n",
       "    }\n",
       "\n",
       "    .dataframe thead th {\n",
       "        text-align: right;\n",
       "    }\n",
       "</style>\n",
       "<table border=\"1\" class=\"dataframe\">\n",
       "  <thead>\n",
       "    <tr style=\"text-align: right;\">\n",
       "      <th></th>\n",
       "      <th>Order ID</th>\n",
       "      <th>Customer ID</th>\n",
       "      <th>Restaurant ID</th>\n",
       "      <th>Order Date and Time</th>\n",
       "      <th>Delivery Date and Time</th>\n",
       "      <th>Order Value</th>\n",
       "      <th>Delivery Fee</th>\n",
       "      <th>Payment Method</th>\n",
       "      <th>Discounts and Offers</th>\n",
       "      <th>Commission Fee</th>\n",
       "      <th>Payment Processing Fee</th>\n",
       "      <th>Refunds/Chargebacks</th>\n",
       "    </tr>\n",
       "  </thead>\n",
       "  <tbody>\n",
       "    <tr>\n",
       "      <th>0</th>\n",
       "      <td>1</td>\n",
       "      <td>C8270</td>\n",
       "      <td>R2924</td>\n",
       "      <td>2024-02-01 01:11:52</td>\n",
       "      <td>2024-02-01 02:39:52</td>\n",
       "      <td>1914</td>\n",
       "      <td>0</td>\n",
       "      <td>Credit Card</td>\n",
       "      <td>5% on App</td>\n",
       "      <td>150</td>\n",
       "      <td>47</td>\n",
       "      <td>0</td>\n",
       "    </tr>\n",
       "    <tr>\n",
       "      <th>1</th>\n",
       "      <td>2</td>\n",
       "      <td>C1860</td>\n",
       "      <td>R2054</td>\n",
       "      <td>2024-02-02 22:11:04</td>\n",
       "      <td>2024-02-02 22:46:04</td>\n",
       "      <td>986</td>\n",
       "      <td>40</td>\n",
       "      <td>Digital Wallet</td>\n",
       "      <td>10%</td>\n",
       "      <td>198</td>\n",
       "      <td>23</td>\n",
       "      <td>0</td>\n",
       "    </tr>\n",
       "    <tr>\n",
       "      <th>2</th>\n",
       "      <td>3</td>\n",
       "      <td>C6390</td>\n",
       "      <td>R2870</td>\n",
       "      <td>2024-01-31 05:54:35</td>\n",
       "      <td>2024-01-31 06:52:35</td>\n",
       "      <td>937</td>\n",
       "      <td>30</td>\n",
       "      <td>Cash on Delivery</td>\n",
       "      <td>15% New User</td>\n",
       "      <td>195</td>\n",
       "      <td>45</td>\n",
       "      <td>0</td>\n",
       "    </tr>\n",
       "    <tr>\n",
       "      <th>3</th>\n",
       "      <td>4</td>\n",
       "      <td>C6191</td>\n",
       "      <td>R2642</td>\n",
       "      <td>2024-01-16 22:52:49</td>\n",
       "      <td>2024-01-16 23:38:49</td>\n",
       "      <td>1463</td>\n",
       "      <td>50</td>\n",
       "      <td>Cash on Delivery</td>\n",
       "      <td>NaN</td>\n",
       "      <td>146</td>\n",
       "      <td>27</td>\n",
       "      <td>0</td>\n",
       "    </tr>\n",
       "  </tbody>\n",
       "</table>\n",
       "</div>"
      ],
      "text/plain": [
       "   Order ID Customer ID Restaurant ID  Order Date and Time  \\\n",
       "0         1       C8270         R2924  2024-02-01 01:11:52   \n",
       "1         2       C1860         R2054  2024-02-02 22:11:04   \n",
       "2         3       C6390         R2870  2024-01-31 05:54:35   \n",
       "3         4       C6191         R2642  2024-01-16 22:52:49   \n",
       "\n",
       "  Delivery Date and Time  Order Value  Delivery Fee    Payment Method  \\\n",
       "0    2024-02-01 02:39:52         1914             0       Credit Card   \n",
       "1    2024-02-02 22:46:04          986            40    Digital Wallet   \n",
       "2    2024-01-31 06:52:35          937            30  Cash on Delivery   \n",
       "3    2024-01-16 23:38:49         1463            50  Cash on Delivery   \n",
       "\n",
       "  Discounts and Offers  Commission Fee  Payment Processing Fee  \\\n",
       "0            5% on App             150                      47   \n",
       "1                  10%             198                      23   \n",
       "2         15% New User             195                      45   \n",
       "3                  NaN             146                      27   \n",
       "\n",
       "   Refunds/Chargebacks  \n",
       "0                    0  \n",
       "1                    0  \n",
       "2                    0  \n",
       "3                    0  "
      ]
     },
     "execution_count": 22,
     "metadata": {},
     "output_type": "execute_result"
    }
   ],
   "source": [
    "df.head(4)"
   ]
  },
  {
   "cell_type": "code",
   "execution_count": 16,
   "id": "ed7320c4-4822-4fd6-ab45-a4efc19ef65e",
   "metadata": {},
   "outputs": [
    {
     "name": "stdout",
     "output_type": "stream",
     "text": [
      "<class 'pandas.core.frame.DataFrame'>\n",
      "RangeIndex: 1000 entries, 0 to 999\n",
      "Data columns (total 12 columns):\n",
      " #   Column                  Non-Null Count  Dtype \n",
      "---  ------                  --------------  ----- \n",
      " 0   Order ID                1000 non-null   int64 \n",
      " 1   Customer ID             1000 non-null   object\n",
      " 2   Restaurant ID           1000 non-null   object\n",
      " 3   Order Date and Time     1000 non-null   object\n",
      " 4   Delivery Date and Time  1000 non-null   object\n",
      " 5   Order Value             1000 non-null   int64 \n",
      " 6   Delivery Fee            1000 non-null   int64 \n",
      " 7   Payment Method          1000 non-null   object\n",
      " 8   Discounts and Offers    815 non-null    object\n",
      " 9   Commission Fee          1000 non-null   int64 \n",
      " 10  Payment Processing Fee  1000 non-null   int64 \n",
      " 11  Refunds/Chargebacks     1000 non-null   int64 \n",
      "dtypes: int64(6), object(6)\n",
      "memory usage: 93.9+ KB\n"
     ]
    }
   ],
   "source": [
    "df.info()"
   ]
  },
  {
   "cell_type": "code",
   "execution_count": 10,
   "id": "b8f69ba2-7cb2-433e-a468-bd10e41e557f",
   "metadata": {},
   "outputs": [
    {
     "data": {
      "text/plain": [
       "Index(['Order ID', 'Customer ID', 'Restaurant ID', 'Order Date and Time',\n",
       "       'Delivery Date and Time', 'Order Value', 'Delivery Fee',\n",
       "       'Payment Method', 'Discounts and Offers', 'Commission Fee',\n",
       "       'Payment Processing Fee', 'Refunds/Chargebacks'],\n",
       "      dtype='object')"
      ]
     },
     "execution_count": 10,
     "metadata": {},
     "output_type": "execute_result"
    }
   ],
   "source": [
    "df.columns"
   ]
  },
  {
   "cell_type": "markdown",
   "id": "6eddcc85-90d3-41eb-9923-1e3dbe56a17c",
   "metadata": {
    "jp-MarkdownHeadingCollapsed": true
   },
   "source": [
    "# 4 Data cleaning"
   ]
  },
  {
   "cell_type": "markdown",
   "id": "45fdc01c-9bd2-44a1-a31b-4af1c427c3ec",
   "metadata": {},
   "source": [
    "## 4.1 Missing values"
   ]
  },
  {
   "cell_type": "code",
   "execution_count": 64,
   "id": "15dd241c-d3b7-48be-b24c-e649c4164790",
   "metadata": {},
   "outputs": [
    {
     "data": {
      "text/plain": [
       "Order ID                         0\n",
       "Customer ID                      0\n",
       "Restaurant ID                    0\n",
       "Order Date and Time              0\n",
       "Delivery Date and Time           0\n",
       "Order Value                      0\n",
       "Delivery Fee                     0\n",
       "Payment Method                   0\n",
       "Discounts and Offers          1000\n",
       "Commission Fee                   0\n",
       "Payment Processing Fee           0\n",
       "Refunds/Chargebacks              0\n",
       "Order Value USD                  0\n",
       "Payment Processing Fee USD       0\n",
       "Commission Fee USD               0\n",
       "Delivery Fee USD                 0\n",
       "dtype: int64"
      ]
     },
     "execution_count": 64,
     "metadata": {},
     "output_type": "execute_result"
    }
   ],
   "source": [
    "df.isnull().sum()"
   ]
  },
  {
   "cell_type": "markdown",
   "id": "261796bc-77ca-43f7-bdb2-717ffbb15e89",
   "metadata": {},
   "source": [
    "## 4.2 Duplicate values"
   ]
  },
  {
   "cell_type": "code",
   "execution_count": 19,
   "id": "cd533c20-da61-4125-a357-7afaaeb8caef",
   "metadata": {},
   "outputs": [
    {
     "data": {
      "text/plain": [
       "0"
      ]
     },
     "execution_count": 19,
     "metadata": {},
     "output_type": "execute_result"
    }
   ],
   "source": [
    "df.duplicated().sum()"
   ]
  },
  {
   "cell_type": "markdown",
   "id": "31caa211-3d4e-4020-a258-1217cc090f0e",
   "metadata": {},
   "source": [
    "## 4.3 Data transformation"
   ]
  },
  {
   "cell_type": "markdown",
   "id": "62ca367b-3f3a-4944-8191-c8a6f5f70825",
   "metadata": {},
   "source": [
    "### 4.3.1 Filling missing values"
   ]
  },
  {
   "cell_type": "code",
   "execution_count": 69,
   "id": "3565a235-f018-43cc-bda3-9f06125b088c",
   "metadata": {},
   "outputs": [
    {
     "data": {
      "text/html": [
       "<div>\n",
       "<style scoped>\n",
       "    .dataframe tbody tr th:only-of-type {\n",
       "        vertical-align: middle;\n",
       "    }\n",
       "\n",
       "    .dataframe tbody tr th {\n",
       "        vertical-align: top;\n",
       "    }\n",
       "\n",
       "    .dataframe thead th {\n",
       "        text-align: right;\n",
       "    }\n",
       "</style>\n",
       "<table border=\"1\" class=\"dataframe\">\n",
       "  <thead>\n",
       "    <tr style=\"text-align: right;\">\n",
       "      <th></th>\n",
       "      <th>Order ID</th>\n",
       "      <th>Customer ID</th>\n",
       "      <th>Restaurant ID</th>\n",
       "      <th>Order Date and Time</th>\n",
       "      <th>Delivery Date and Time</th>\n",
       "      <th>Order Value</th>\n",
       "      <th>Delivery Fee</th>\n",
       "      <th>Payment Method</th>\n",
       "      <th>Discounts and Offers</th>\n",
       "      <th>Commission Fee</th>\n",
       "      <th>Payment Processing Fee</th>\n",
       "      <th>Refunds/Chargebacks</th>\n",
       "    </tr>\n",
       "  </thead>\n",
       "  <tbody>\n",
       "    <tr>\n",
       "      <th>0</th>\n",
       "      <td>1</td>\n",
       "      <td>C8270</td>\n",
       "      <td>R2924</td>\n",
       "      <td>2024-02-01 01:11:52</td>\n",
       "      <td>2024-02-01 02:39:52</td>\n",
       "      <td>1914</td>\n",
       "      <td>0</td>\n",
       "      <td>Credit Card</td>\n",
       "      <td>5% on App</td>\n",
       "      <td>150</td>\n",
       "      <td>47</td>\n",
       "      <td>0</td>\n",
       "    </tr>\n",
       "    <tr>\n",
       "      <th>1</th>\n",
       "      <td>2</td>\n",
       "      <td>C1860</td>\n",
       "      <td>R2054</td>\n",
       "      <td>2024-02-02 22:11:04</td>\n",
       "      <td>2024-02-02 22:46:04</td>\n",
       "      <td>986</td>\n",
       "      <td>40</td>\n",
       "      <td>Digital Wallet</td>\n",
       "      <td>10%</td>\n",
       "      <td>198</td>\n",
       "      <td>23</td>\n",
       "      <td>0</td>\n",
       "    </tr>\n",
       "    <tr>\n",
       "      <th>2</th>\n",
       "      <td>3</td>\n",
       "      <td>C6390</td>\n",
       "      <td>R2870</td>\n",
       "      <td>2024-01-31 05:54:35</td>\n",
       "      <td>2024-01-31 06:52:35</td>\n",
       "      <td>937</td>\n",
       "      <td>30</td>\n",
       "      <td>Cash on Delivery</td>\n",
       "      <td>15% New User</td>\n",
       "      <td>195</td>\n",
       "      <td>45</td>\n",
       "      <td>0</td>\n",
       "    </tr>\n",
       "    <tr>\n",
       "      <th>3</th>\n",
       "      <td>4</td>\n",
       "      <td>C6191</td>\n",
       "      <td>R2642</td>\n",
       "      <td>2024-01-16 22:52:49</td>\n",
       "      <td>2024-01-16 23:38:49</td>\n",
       "      <td>1463</td>\n",
       "      <td>50</td>\n",
       "      <td>Cash on Delivery</td>\n",
       "      <td>0</td>\n",
       "      <td>146</td>\n",
       "      <td>27</td>\n",
       "      <td>0</td>\n",
       "    </tr>\n",
       "    <tr>\n",
       "      <th>4</th>\n",
       "      <td>5</td>\n",
       "      <td>C6734</td>\n",
       "      <td>R2799</td>\n",
       "      <td>2024-01-29 01:19:30</td>\n",
       "      <td>2024-01-29 02:48:30</td>\n",
       "      <td>1992</td>\n",
       "      <td>30</td>\n",
       "      <td>Cash on Delivery</td>\n",
       "      <td>50 off Promo</td>\n",
       "      <td>130</td>\n",
       "      <td>50</td>\n",
       "      <td>0</td>\n",
       "    </tr>\n",
       "    <tr>\n",
       "      <th>...</th>\n",
       "      <td>...</td>\n",
       "      <td>...</td>\n",
       "      <td>...</td>\n",
       "      <td>...</td>\n",
       "      <td>...</td>\n",
       "      <td>...</td>\n",
       "      <td>...</td>\n",
       "      <td>...</td>\n",
       "      <td>...</td>\n",
       "      <td>...</td>\n",
       "      <td>...</td>\n",
       "      <td>...</td>\n",
       "    </tr>\n",
       "    <tr>\n",
       "      <th>995</th>\n",
       "      <td>996</td>\n",
       "      <td>C6232</td>\n",
       "      <td>R2129</td>\n",
       "      <td>2024-01-14 05:57:00</td>\n",
       "      <td>2024-01-14 06:39:00</td>\n",
       "      <td>825</td>\n",
       "      <td>0</td>\n",
       "      <td>Digital Wallet</td>\n",
       "      <td>5% on App</td>\n",
       "      <td>165</td>\n",
       "      <td>47</td>\n",
       "      <td>50</td>\n",
       "    </tr>\n",
       "    <tr>\n",
       "      <th>996</th>\n",
       "      <td>997</td>\n",
       "      <td>C6797</td>\n",
       "      <td>R2742</td>\n",
       "      <td>2024-01-28 08:50:43</td>\n",
       "      <td>2024-01-28 10:10:43</td>\n",
       "      <td>1627</td>\n",
       "      <td>50</td>\n",
       "      <td>Cash on Delivery</td>\n",
       "      <td>0</td>\n",
       "      <td>110</td>\n",
       "      <td>42</td>\n",
       "      <td>0</td>\n",
       "    </tr>\n",
       "    <tr>\n",
       "      <th>997</th>\n",
       "      <td>998</td>\n",
       "      <td>C5926</td>\n",
       "      <td>R2837</td>\n",
       "      <td>2024-01-21 09:43:19</td>\n",
       "      <td>2024-01-21 10:44:19</td>\n",
       "      <td>553</td>\n",
       "      <td>20</td>\n",
       "      <td>Cash on Delivery</td>\n",
       "      <td>0</td>\n",
       "      <td>64</td>\n",
       "      <td>31</td>\n",
       "      <td>0</td>\n",
       "    </tr>\n",
       "    <tr>\n",
       "      <th>998</th>\n",
       "      <td>999</td>\n",
       "      <td>C7016</td>\n",
       "      <td>R2144</td>\n",
       "      <td>2024-01-30 22:23:38</td>\n",
       "      <td>2024-01-31 00:07:38</td>\n",
       "      <td>1414</td>\n",
       "      <td>0</td>\n",
       "      <td>Cash on Delivery</td>\n",
       "      <td>15% New User</td>\n",
       "      <td>199</td>\n",
       "      <td>34</td>\n",
       "      <td>0</td>\n",
       "    </tr>\n",
       "    <tr>\n",
       "      <th>999</th>\n",
       "      <td>1000</td>\n",
       "      <td>C4335</td>\n",
       "      <td>R2890</td>\n",
       "      <td>2024-01-08 14:46:43</td>\n",
       "      <td>2024-01-08 15:39:43</td>\n",
       "      <td>1657</td>\n",
       "      <td>20</td>\n",
       "      <td>Digital Wallet</td>\n",
       "      <td>15% New User</td>\n",
       "      <td>180</td>\n",
       "      <td>27</td>\n",
       "      <td>100</td>\n",
       "    </tr>\n",
       "  </tbody>\n",
       "</table>\n",
       "<p>1000 rows × 12 columns</p>\n",
       "</div>"
      ],
      "text/plain": [
       "     Order ID Customer ID Restaurant ID  Order Date and Time  \\\n",
       "0           1       C8270         R2924  2024-02-01 01:11:52   \n",
       "1           2       C1860         R2054  2024-02-02 22:11:04   \n",
       "2           3       C6390         R2870  2024-01-31 05:54:35   \n",
       "3           4       C6191         R2642  2024-01-16 22:52:49   \n",
       "4           5       C6734         R2799  2024-01-29 01:19:30   \n",
       "..        ...         ...           ...                  ...   \n",
       "995       996       C6232         R2129  2024-01-14 05:57:00   \n",
       "996       997       C6797         R2742  2024-01-28 08:50:43   \n",
       "997       998       C5926         R2837  2024-01-21 09:43:19   \n",
       "998       999       C7016         R2144  2024-01-30 22:23:38   \n",
       "999      1000       C4335         R2890  2024-01-08 14:46:43   \n",
       "\n",
       "    Delivery Date and Time  Order Value  Delivery Fee    Payment Method  \\\n",
       "0      2024-02-01 02:39:52         1914             0       Credit Card   \n",
       "1      2024-02-02 22:46:04          986            40    Digital Wallet   \n",
       "2      2024-01-31 06:52:35          937            30  Cash on Delivery   \n",
       "3      2024-01-16 23:38:49         1463            50  Cash on Delivery   \n",
       "4      2024-01-29 02:48:30         1992            30  Cash on Delivery   \n",
       "..                     ...          ...           ...               ...   \n",
       "995    2024-01-14 06:39:00          825             0    Digital Wallet   \n",
       "996    2024-01-28 10:10:43         1627            50  Cash on Delivery   \n",
       "997    2024-01-21 10:44:19          553            20  Cash on Delivery   \n",
       "998    2024-01-31 00:07:38         1414             0  Cash on Delivery   \n",
       "999    2024-01-08 15:39:43         1657            20    Digital Wallet   \n",
       "\n",
       "    Discounts and Offers  Commission Fee  Payment Processing Fee  \\\n",
       "0              5% on App             150                      47   \n",
       "1                    10%             198                      23   \n",
       "2           15% New User             195                      45   \n",
       "3                      0             146                      27   \n",
       "4           50 off Promo             130                      50   \n",
       "..                   ...             ...                     ...   \n",
       "995            5% on App             165                      47   \n",
       "996                    0             110                      42   \n",
       "997                    0              64                      31   \n",
       "998         15% New User             199                      34   \n",
       "999         15% New User             180                      27   \n",
       "\n",
       "     Refunds/Chargebacks  \n",
       "0                      0  \n",
       "1                      0  \n",
       "2                      0  \n",
       "3                      0  \n",
       "4                      0  \n",
       "..                   ...  \n",
       "995                   50  \n",
       "996                    0  \n",
       "997                    0  \n",
       "998                    0  \n",
       "999                  100  \n",
       "\n",
       "[1000 rows x 12 columns]"
      ]
     },
     "execution_count": 69,
     "metadata": {},
     "output_type": "execute_result"
    }
   ],
   "source": [
    "df.fillna(0)"
   ]
  },
  {
   "cell_type": "markdown",
   "id": "f130b73f-2ff1-4a65-9459-f5b107885e78",
   "metadata": {},
   "source": [
    "### 4.3.2 Currency swap"
   ]
  },
  {
   "cell_type": "code",
   "execution_count": 23,
   "id": "61d10850-5730-4a65-a23d-aacdfaad54df",
   "metadata": {},
   "outputs": [],
   "source": [
    "exchange_rate_inr_to_bhd = 0.0045  \n",
    "\n",
    "df[\"Order Value\"] = df[\"Order Value\"] * exchange_rate_inr_to_bhd\n",
    "df[\"Payment Processing Fee\"] = df[\"Payment Processing Fee\"] * exchange_rate_inr_to_bhd\n",
    "df[\"Commission Fee\"] = df[\"Commission Fee\"] * exchange_rate_inr_to_bhd\n",
    "df[\"Delivery Fee\"] = df[\"Delivery Fee\"] * exchange_rate_inr_to_bhd"
   ]
  },
  {
   "cell_type": "markdown",
   "id": "fb2881f0-1a63-4527-934d-a118e76972da",
   "metadata": {},
   "source": [
    "# 5 Data types"
   ]
  },
  {
   "cell_type": "code",
   "execution_count": 76,
   "id": "f78b18de-f060-440e-a06a-3005c9049389",
   "metadata": {},
   "outputs": [
    {
     "name": "stdout",
     "output_type": "stream",
     "text": [
      "0       5\n",
      "1      10\n",
      "2      15\n",
      "3       0\n",
      "4      50\n",
      "       ..\n",
      "995     5\n",
      "996     0\n",
      "997     0\n",
      "998    15\n",
      "999    15\n",
      "Name: Discounts and Offers, Length: 1000, dtype: int64\n"
     ]
    }
   ],
   "source": [
    "def extract_numeric(par):\n",
    "    if isinstance(par, str):\n",
    "        numeric_str = []\n",
    "        for char in par:\n",
    "            if char.isnumeric():\n",
    "                numeric_str.append(char)\n",
    "        numeric_str = \"\".join(numeric_str)\n",
    "        return int(numeric_str)\n",
    "    else:\n",
    "        return 0\n",
    "\n",
    "\n",
    "df[\"Discounts and Offers\"] = df[\"Discounts and Offers\"].apply(extract_numeric)"
   ]
  },
  {
   "cell_type": "code",
   "execution_count": 82,
   "id": "7b41d344-b0ec-4bb5-9e2c-6641a079cad3",
   "metadata": {},
   "outputs": [
    {
     "name": "stdout",
     "output_type": "stream",
     "text": [
      "0       95.70\n",
      "1       98.60\n",
      "2      140.55\n",
      "3        0.00\n",
      "4      996.00\n",
      "        ...  \n",
      "995     41.25\n",
      "996      0.00\n",
      "997      0.00\n",
      "998    212.10\n",
      "999    248.55\n",
      "Name: Discount Amount, Length: 1000, dtype: float64\n"
     ]
    }
   ],
   "source": [
    "df[\"Discount Amount\"] = df.apply(lambda row: (row[\"Order Value\"] * row[\"Discounts and Offers\"] / 100), axis=1)"
   ]
  },
  {
   "cell_type": "markdown",
   "id": "e03c8761-141d-4904-87f8-f9af4106d4c3",
   "metadata": {},
   "source": [
    "# 6 Cost Analysis"
   ]
  },
  {
   "cell_type": "code",
   "execution_count": 79,
   "id": "3c87f986-1c34-4676-ae4b-1b01b121780f",
   "metadata": {},
   "outputs": [
    {
     "data": {
      "text/html": [
       "<div>\n",
       "<style scoped>\n",
       "    .dataframe tbody tr th:only-of-type {\n",
       "        vertical-align: middle;\n",
       "    }\n",
       "\n",
       "    .dataframe tbody tr th {\n",
       "        vertical-align: top;\n",
       "    }\n",
       "\n",
       "    .dataframe thead th {\n",
       "        text-align: right;\n",
       "    }\n",
       "</style>\n",
       "<table border=\"1\" class=\"dataframe\">\n",
       "  <thead>\n",
       "    <tr style=\"text-align: right;\">\n",
       "      <th></th>\n",
       "      <th>Order ID</th>\n",
       "      <th>Order Value</th>\n",
       "      <th>Delivery Fee</th>\n",
       "      <th>Discounts and Offers</th>\n",
       "      <th>Commission Fee</th>\n",
       "      <th>Payment Processing Fee</th>\n",
       "      <th>Refunds/Chargebacks</th>\n",
       "    </tr>\n",
       "  </thead>\n",
       "  <tbody>\n",
       "    <tr>\n",
       "      <th>count</th>\n",
       "      <td>1000.000000</td>\n",
       "      <td>1000.000000</td>\n",
       "      <td>1000.000000</td>\n",
       "      <td>1000.000000</td>\n",
       "      <td>1000.00000</td>\n",
       "      <td>1000.000000</td>\n",
       "      <td>1000.000000</td>\n",
       "    </tr>\n",
       "    <tr>\n",
       "      <th>mean</th>\n",
       "      <td>500.500000</td>\n",
       "      <td>1053.969000</td>\n",
       "      <td>28.620000</td>\n",
       "      <td>16.265000</td>\n",
       "      <td>126.99000</td>\n",
       "      <td>29.832000</td>\n",
       "      <td>28.300000</td>\n",
       "    </tr>\n",
       "    <tr>\n",
       "      <th>std</th>\n",
       "      <td>288.819436</td>\n",
       "      <td>530.975339</td>\n",
       "      <td>16.958278</td>\n",
       "      <td>17.626272</td>\n",
       "      <td>43.06405</td>\n",
       "      <td>11.627165</td>\n",
       "      <td>49.614228</td>\n",
       "    </tr>\n",
       "    <tr>\n",
       "      <th>min</th>\n",
       "      <td>1.000000</td>\n",
       "      <td>104.000000</td>\n",
       "      <td>0.000000</td>\n",
       "      <td>0.000000</td>\n",
       "      <td>50.00000</td>\n",
       "      <td>10.000000</td>\n",
       "      <td>0.000000</td>\n",
       "    </tr>\n",
       "    <tr>\n",
       "      <th>25%</th>\n",
       "      <td>250.750000</td>\n",
       "      <td>597.750000</td>\n",
       "      <td>20.000000</td>\n",
       "      <td>5.000000</td>\n",
       "      <td>90.00000</td>\n",
       "      <td>20.000000</td>\n",
       "      <td>0.000000</td>\n",
       "    </tr>\n",
       "    <tr>\n",
       "      <th>50%</th>\n",
       "      <td>500.500000</td>\n",
       "      <td>1038.500000</td>\n",
       "      <td>30.000000</td>\n",
       "      <td>10.000000</td>\n",
       "      <td>127.00000</td>\n",
       "      <td>30.000000</td>\n",
       "      <td>0.000000</td>\n",
       "    </tr>\n",
       "    <tr>\n",
       "      <th>75%</th>\n",
       "      <td>750.250000</td>\n",
       "      <td>1494.000000</td>\n",
       "      <td>40.000000</td>\n",
       "      <td>15.000000</td>\n",
       "      <td>164.00000</td>\n",
       "      <td>40.000000</td>\n",
       "      <td>50.000000</td>\n",
       "    </tr>\n",
       "    <tr>\n",
       "      <th>max</th>\n",
       "      <td>1000.000000</td>\n",
       "      <td>1995.000000</td>\n",
       "      <td>50.000000</td>\n",
       "      <td>50.000000</td>\n",
       "      <td>200.00000</td>\n",
       "      <td>50.000000</td>\n",
       "      <td>150.000000</td>\n",
       "    </tr>\n",
       "  </tbody>\n",
       "</table>\n",
       "</div>"
      ],
      "text/plain": [
       "          Order ID  Order Value  Delivery Fee  Discounts and Offers  \\\n",
       "count  1000.000000  1000.000000   1000.000000           1000.000000   \n",
       "mean    500.500000  1053.969000     28.620000             16.265000   \n",
       "std     288.819436   530.975339     16.958278             17.626272   \n",
       "min       1.000000   104.000000      0.000000              0.000000   \n",
       "25%     250.750000   597.750000     20.000000              5.000000   \n",
       "50%     500.500000  1038.500000     30.000000             10.000000   \n",
       "75%     750.250000  1494.000000     40.000000             15.000000   \n",
       "max    1000.000000  1995.000000     50.000000             50.000000   \n",
       "\n",
       "       Commission Fee  Payment Processing Fee  Refunds/Chargebacks  \n",
       "count      1000.00000             1000.000000          1000.000000  \n",
       "mean        126.99000               29.832000            28.300000  \n",
       "std          43.06405               11.627165            49.614228  \n",
       "min          50.00000               10.000000             0.000000  \n",
       "25%          90.00000               20.000000             0.000000  \n",
       "50%         127.00000               30.000000             0.000000  \n",
       "75%         164.00000               40.000000            50.000000  \n",
       "max         200.00000               50.000000           150.000000  "
      ]
     },
     "execution_count": 79,
     "metadata": {},
     "output_type": "execute_result"
    }
   ],
   "source": [
    "df.describe()"
   ]
  },
  {
   "cell_type": "markdown",
   "id": "6727c40d-6973-41c5-bcdf-ed47cfeec098",
   "metadata": {
    "jp-MarkdownHeadingCollapsed": true
   },
   "source": [
    "## 6.1 Profit calculation"
   ]
  },
  {
   "cell_type": "code",
   "execution_count": 91,
   "id": "8a0ede79-6db5-4ca8-80b2-bba75fac5b9c",
   "metadata": {},
   "outputs": [],
   "source": [
    "df[\"Total Cost\"] = df[\"Delivery Fee\"] + df[\"Payment Processing Fee\"] + df[\"Discount Amount\"]\n",
    "df[\"Revenue\"] = df[\"Commission Fee\"]\n",
    "df[\"Profit\"] = df[\"Revenue\"] - df[\"Total Costs\"]"
   ]
  },
  {
   "cell_type": "code",
   "execution_count": 92,
   "id": "590f8a28-69c4-48dc-84f4-3fae13ae27bc",
   "metadata": {},
   "outputs": [
    {
     "data": {
      "text/plain": [
       "0        7.30\n",
       "1       36.40\n",
       "2      -20.55\n",
       "3       69.00\n",
       "4     -946.00\n",
       "        ...  \n",
       "995     76.75\n",
       "996     18.00\n",
       "997     13.00\n",
       "998    -47.10\n",
       "999   -115.55\n",
       "Name: Profit, Length: 1000, dtype: float64"
      ]
     },
     "execution_count": 92,
     "metadata": {},
     "output_type": "execute_result"
    }
   ],
   "source": [
    "df[\"Profit\"]"
   ]
  },
  {
   "cell_type": "markdown",
   "id": "e9a439f0-9381-418a-a571-86462f65a0a3",
   "metadata": {
    "jp-MarkdownHeadingCollapsed": true
   },
   "source": [
    "## 6.2 Total metrics"
   ]
  },
  {
   "cell_type": "code",
   "execution_count": 100,
   "id": "83e08631-eb34-426a-8419-285c9bae6a9b",
   "metadata": {},
   "outputs": [
    {
     "name": "stdout",
     "output_type": "stream",
     "text": [
      "Total Orders: 1000\n",
      "Total_Revenue: 126990\n",
      "Total Cost: 232709.85\n",
      "Total Profit: -105719.85\n"
     ]
    }
   ],
   "source": [
    "total_orders = df.shape[0]\n",
    "total_revenue = df[\"Revenue\"].sum()\n",
    "total_cost = df[\"Total Cost\"].sum()\n",
    "total_profit = df[\"Profit\"].sum()\n",
    "\n",
    "print(\"Total Orders:\",total_orders)\n",
    "print(\"Total_Revenue:\",total_revenue)\n",
    "print(\"Total Cost:\",total_cost)\n",
    "print(\"Total Profit:\",total_profit)"
   ]
  },
  {
   "cell_type": "markdown",
   "id": "d3ae4e6a-a96c-4d83-b698-f292f8357f38",
   "metadata": {},
   "source": [
    "### 6.2.1 Profitability ratio"
   ]
  },
  {
   "cell_type": "code",
   "execution_count": 101,
   "id": "57bfae1e-7264-4b31-a043-350b7376157e",
   "metadata": {},
   "outputs": [
    {
     "name": "stdout",
     "output_type": "stream",
     "text": [
      "-0.8325053153791637\n"
     ]
    }
   ],
   "source": [
    "profit_ratio = total_profit / total_revenue\n",
    "print(profit_ratio)"
   ]
  },
  {
   "cell_type": "markdown",
   "id": "627c00ac-7a69-4045-84f6-01c454ceab0b",
   "metadata": {},
   "source": [
    "## 6.3 Cost breakdown"
   ]
  },
  {
   "cell_type": "code",
   "execution_count": 123,
   "id": "dfff1924-d5c3-4109-ae7c-d83587d5b547",
   "metadata": {},
   "outputs": [
    {
     "data": {
      "image/png": "[encoded data removed]",
      "text/plain": [
       "<Figure size 640x480 with 1 Axes>"
      ]
     },
     "metadata": {},
     "output_type": "display_data"
    }
   ],
   "source": [
    "costs_breakdown = df[[\"Delivery Fee\", \"Payment Processing Fee\", \"Discount Amount\"]].sum()\n",
    "\n",
    "plot = plt.pie(costs_breakdown, labels=costs_breakdown.index, autopct='%1.1f%%')"
   ]
  },
  {
   "cell_type": "code",
   "execution_count": null,
   "id": "90b5d151-3dff-4614-ad5f-1e467fdfa21c",
   "metadata": {},
   "outputs": [],
   "source": []
  }
 ],
 "metadata": {
  "kernelspec": {
   "display_name": "Python 3 (ipykernel)",
   "language": "python",
   "name": "python3"
  },
  "language_info": {
   "codemirror_mode": {
    "name": "ipython",
    "version": 3
   },
   "file_extension": ".py",
   "mimetype": "text/x-python",
   "name": "python",
   "nbconvert_exporter": "python",
   "pygments_lexer": "ipython3",
   "version": "3.11.5"
  }
 },
 "nbformat": 4,
 "nbformat_minor": 5
}
