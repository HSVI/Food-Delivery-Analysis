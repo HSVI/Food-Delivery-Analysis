{
 "cells": [
  {
   "cell_type": "markdown",
   "id": "029843e0-3dc5-4ce3-89da-8c1c7b1d3540",
   "metadata": {},
   "source": [
    "# 1 Project overview"
   ]
  },
  {
   "cell_type": "markdown",
   "id": "993b3d04-893d-4802-bb08-0aa1ad619251",
   "metadata": {},
   "source": [
    "**About Dataset** </br>\n",
    "A food delivery service is facing challenges in achieving profitability across its operations. With a dataset of 1,000 food orders, the service seeks to understand the dynamics of its cost structure and profitability to identify strategic opportunities for improvement.</br>\n",
    "\n",
    "The dataset contains comprehensive details on food orders, including Order ID, Customer ID, Restaurant ID, Order and Delivery Date and Time, Order Value, Delivery Fee, Payment Method, Discounts and Offers, Commission Fee, Payment Processing Fee, and Refunds/Chargebacks. This data provides a foundation for analyzing the cost structure and profitability of the food delivery service.\n",
    "\n",
    "**Objectives:**\n",
    "\n",
    "- Cost Analysis\n",
    "- Profitability Evaluation\n",
    "- Restaurants Analysis"
   ]
  },
  {
   "cell_type": "markdown",
   "id": "c1fde7bd-47e8-4280-9c94-743e86fb116f",
   "metadata": {},
   "source": [
    "# 2 Preparation"
   ]
  },
  {
   "cell_type": "markdown",
   "id": "593c5cd7-cadf-4a70-af33-e2251a2dde1d",
   "metadata": {},
   "source": [
    "## 2.1 Importing libraries"
   ]
  },
  {
   "cell_type": "code",
   "execution_count": 1,
   "id": "9aef4d66-b1b4-4913-8117-9d70338b94e4",
   "metadata": {},
   "outputs": [],
   "source": [
    "import pandas as pd\n",
    "import matplotlib.pyplot as plt\n",
    "import seaborn as sns"
   ]
  },
  {
   "cell_type": "markdown",
   "id": "0f774026-dd23-4411-ad14-3f5f77672ef1",
   "metadata": {},
   "source": [
    "## 2.2 Reading dataset"
   ]
  },
  {
   "cell_type": "code",
   "execution_count": 3,
   "id": "b14c5798-fb19-436d-a935-4f7fc9d3d78e",
   "metadata": {},
   "outputs": [],
   "source": [
    "df = pd.read_csv(r\"food_orders_new_delhi.csv\")"
   ]
  },
  {
   "cell_type": "markdown",
   "id": "720ca90c-57f1-43ad-9677-9e57f345f63e",
   "metadata": {},
   "source": [
    "# 3 Initial screening"
   ]
  },
  {
   "cell_type": "code",
   "execution_count": 4,
   "id": "1d447093-48b6-4a37-8fae-7af6893cc572",
   "metadata": {},
   "outputs": [
    {
     "data": {
      "text/plain": [
       "(1000, 12)"
      ]
     },
     "execution_count": 4,
     "metadata": {},
     "output_type": "execute_result"
    }
   ],
   "source": [
    "df.shape"
   ]
  },
  {
   "cell_type": "code",
   "execution_count": 5,
   "id": "586ed015-1c88-4d22-8020-1d7f93379d02",
   "metadata": {},
   "outputs": [
    {
     "data": {
      "text/html": [
       "<div>\n",
       "<style scoped>\n",
       "    .dataframe tbody tr th:only-of-type {\n",
       "        vertical-align: middle;\n",
       "    }\n",
       "\n",
       "    .dataframe tbody tr th {\n",
       "        vertical-align: top;\n",
       "    }\n",
       "\n",
       "    .dataframe thead th {\n",
       "        text-align: right;\n",
       "    }\n",
       "</style>\n",
       "<table border=\"1\" class=\"dataframe\">\n",
       "  <thead>\n",
       "    <tr style=\"text-align: right;\">\n",
       "      <th></th>\n",
       "      <th>Order ID</th>\n",
       "      <th>Customer ID</th>\n",
       "      <th>Restaurant ID</th>\n",
       "      <th>Order Date and Time</th>\n",
       "      <th>Delivery Date and Time</th>\n",
       "      <th>Order Value</th>\n",
       "      <th>Delivery Fee</th>\n",
       "      <th>Payment Method</th>\n",
       "      <th>Discounts and Offers</th>\n",
       "      <th>Commission Fee</th>\n",
       "      <th>Payment Processing Fee</th>\n",
       "      <th>Refunds/Chargebacks</th>\n",
       "    </tr>\n",
       "  </thead>\n",
       "  <tbody>\n",
       "    <tr>\n",
       "      <th>0</th>\n",
       "      <td>1</td>\n",
       "      <td>C8270</td>\n",
       "      <td>R2924</td>\n",
       "      <td>2024-02-01 01:11:52</td>\n",
       "      <td>2024-02-01 02:39:52</td>\n",
       "      <td>1914</td>\n",
       "      <td>0</td>\n",
       "      <td>Credit Card</td>\n",
       "      <td>5% on App</td>\n",
       "      <td>150</td>\n",
       "      <td>47</td>\n",
       "      <td>0</td>\n",
       "    </tr>\n",
       "    <tr>\n",
       "      <th>1</th>\n",
       "      <td>2</td>\n",
       "      <td>C1860</td>\n",
       "      <td>R2054</td>\n",
       "      <td>2024-02-02 22:11:04</td>\n",
       "      <td>2024-02-02 22:46:04</td>\n",
       "      <td>986</td>\n",
       "      <td>40</td>\n",
       "      <td>Digital Wallet</td>\n",
       "      <td>10%</td>\n",
       "      <td>198</td>\n",
       "      <td>23</td>\n",
       "      <td>0</td>\n",
       "    </tr>\n",
       "    <tr>\n",
       "      <th>2</th>\n",
       "      <td>3</td>\n",
       "      <td>C6390</td>\n",
       "      <td>R2870</td>\n",
       "      <td>2024-01-31 05:54:35</td>\n",
       "      <td>2024-01-31 06:52:35</td>\n",
       "      <td>937</td>\n",
       "      <td>30</td>\n",
       "      <td>Cash on Delivery</td>\n",
       "      <td>15% New User</td>\n",
       "      <td>195</td>\n",
       "      <td>45</td>\n",
       "      <td>0</td>\n",
       "    </tr>\n",
       "    <tr>\n",
       "      <th>3</th>\n",
       "      <td>4</td>\n",
       "      <td>C6191</td>\n",
       "      <td>R2642</td>\n",
       "      <td>2024-01-16 22:52:49</td>\n",
       "      <td>2024-01-16 23:38:49</td>\n",
       "      <td>1463</td>\n",
       "      <td>50</td>\n",
       "      <td>Cash on Delivery</td>\n",
       "      <td>NaN</td>\n",
       "      <td>146</td>\n",
       "      <td>27</td>\n",
       "      <td>0</td>\n",
       "    </tr>\n",
       "  </tbody>\n",
       "</table>\n",
       "</div>"
      ],
      "text/plain": [
       "   Order ID Customer ID Restaurant ID  Order Date and Time  \\\n",
       "0         1       C8270         R2924  2024-02-01 01:11:52   \n",
       "1         2       C1860         R2054  2024-02-02 22:11:04   \n",
       "2         3       C6390         R2870  2024-01-31 05:54:35   \n",
       "3         4       C6191         R2642  2024-01-16 22:52:49   \n",
       "\n",
       "  Delivery Date and Time  Order Value  Delivery Fee    Payment Method  \\\n",
       "0    2024-02-01 02:39:52         1914             0       Credit Card   \n",
       "1    2024-02-02 22:46:04          986            40    Digital Wallet   \n",
       "2    2024-01-31 06:52:35          937            30  Cash on Delivery   \n",
       "3    2024-01-16 23:38:49         1463            50  Cash on Delivery   \n",
       "\n",
       "  Discounts and Offers  Commission Fee  Payment Processing Fee  \\\n",
       "0            5% on App             150                      47   \n",
       "1                  10%             198                      23   \n",
       "2         15% New User             195                      45   \n",
       "3                  NaN             146                      27   \n",
       "\n",
       "   Refunds/Chargebacks  \n",
       "0                    0  \n",
       "1                    0  \n",
       "2                    0  \n",
       "3                    0  "
      ]
     },
     "execution_count": 5,
     "metadata": {},
     "output_type": "execute_result"
    }
   ],
   "source": [
    "df.head(4)"
   ]
  },
  {
   "cell_type": "code",
   "execution_count": 6,
   "id": "ed7320c4-4822-4fd6-ab45-a4efc19ef65e",
   "metadata": {},
   "outputs": [
    {
     "name": "stdout",
     "output_type": "stream",
     "text": [
      "<class 'pandas.core.frame.DataFrame'>\n",
      "RangeIndex: 1000 entries, 0 to 999\n",
      "Data columns (total 12 columns):\n",
      " #   Column                  Non-Null Count  Dtype \n",
      "---  ------                  --------------  ----- \n",
      " 0   Order ID                1000 non-null   int64 \n",
      " 1   Customer ID             1000 non-null   object\n",
      " 2   Restaurant ID           1000 non-null   object\n",
      " 3   Order Date and Time     1000 non-null   object\n",
      " 4   Delivery Date and Time  1000 non-null   object\n",
      " 5   Order Value             1000 non-null   int64 \n",
      " 6   Delivery Fee            1000 non-null   int64 \n",
      " 7   Payment Method          1000 non-null   object\n",
      " 8   Discounts and Offers    815 non-null    object\n",
      " 9   Commission Fee          1000 non-null   int64 \n",
      " 10  Payment Processing Fee  1000 non-null   int64 \n",
      " 11  Refunds/Chargebacks     1000 non-null   int64 \n",
      "dtypes: int64(6), object(6)\n",
      "memory usage: 93.9+ KB\n"
     ]
    }
   ],
   "source": [
    "df.info()"
   ]
  },
  {
   "cell_type": "code",
   "execution_count": 7,
   "id": "b8f69ba2-7cb2-433e-a468-bd10e41e557f",
   "metadata": {},
   "outputs": [
    {
     "data": {
      "text/plain": [
       "Index(['Order ID', 'Customer ID', 'Restaurant ID', 'Order Date and Time',\n",
       "       'Delivery Date and Time', 'Order Value', 'Delivery Fee',\n",
       "       'Payment Method', 'Discounts and Offers', 'Commission Fee',\n",
       "       'Payment Processing Fee', 'Refunds/Chargebacks'],\n",
       "      dtype='object')"
      ]
     },
     "execution_count": 7,
     "metadata": {},
     "output_type": "execute_result"
    }
   ],
   "source": [
    "df.columns"
   ]
  },
  {
   "cell_type": "markdown",
   "id": "6eddcc85-90d3-41eb-9923-1e3dbe56a17c",
   "metadata": {},
   "source": [
    "# 4 Data cleaning"
   ]
  },
  {
   "cell_type": "markdown",
   "id": "45fdc01c-9bd2-44a1-a31b-4af1c427c3ec",
   "metadata": {},
   "source": [
    "## 4.1 Missing values"
   ]
  },
  {
   "cell_type": "code",
   "execution_count": 8,
   "id": "15dd241c-d3b7-48be-b24c-e649c4164790",
   "metadata": {},
   "outputs": [
    {
     "data": {
      "text/plain": [
       "Order ID                    0\n",
       "Customer ID                 0\n",
       "Restaurant ID               0\n",
       "Order Date and Time         0\n",
       "Delivery Date and Time      0\n",
       "Order Value                 0\n",
       "Delivery Fee                0\n",
       "Payment Method              0\n",
       "Discounts and Offers      185\n",
       "Commission Fee              0\n",
       "Payment Processing Fee      0\n",
       "Refunds/Chargebacks         0\n",
       "dtype: int64"
      ]
     },
     "execution_count": 8,
     "metadata": {},
     "output_type": "execute_result"
    }
   ],
   "source": [
    "df.isnull().sum()"
   ]
  },
  {
   "cell_type": "markdown",
   "id": "261796bc-77ca-43f7-bdb2-717ffbb15e89",
   "metadata": {},
   "source": [
    "## 4.2 Duplicate values"
   ]
  },
  {
   "cell_type": "code",
   "execution_count": 9,
   "id": "cd533c20-da61-4125-a357-7afaaeb8caef",
   "metadata": {},
   "outputs": [
    {
     "data": {
      "text/plain": [
       "0"
      ]
     },
     "execution_count": 9,
     "metadata": {},
     "output_type": "execute_result"
    }
   ],
   "source": [
    "df.duplicated().sum()"
   ]
  },
  {
   "cell_type": "markdown",
   "id": "31caa211-3d4e-4020-a258-1217cc090f0e",
   "metadata": {},
   "source": [
    "## 4.3 Data transformation"
   ]
  },
  {
   "cell_type": "markdown",
   "id": "62ca367b-3f3a-4944-8191-c8a6f5f70825",
   "metadata": {},
   "source": [
    "### 4.3.1 Filling missing values"
   ]
  },
  {
   "cell_type": "code",
   "execution_count": 10,
   "id": "3565a235-f018-43cc-bda3-9f06125b088c",
   "metadata": {},
   "outputs": [
    {
     "data": {
      "text/html": [
       "<div>\n",
       "<style scoped>\n",
       "    .dataframe tbody tr th:only-of-type {\n",
       "        vertical-align: middle;\n",
       "    }\n",
       "\n",
       "    .dataframe tbody tr th {\n",
       "        vertical-align: top;\n",
       "    }\n",
       "\n",
       "    .dataframe thead th {\n",
       "        text-align: right;\n",
       "    }\n",
       "</style>\n",
       "<table border=\"1\" class=\"dataframe\">\n",
       "  <thead>\n",
       "    <tr style=\"text-align: right;\">\n",
       "      <th></th>\n",
       "      <th>Order ID</th>\n",
       "      <th>Customer ID</th>\n",
       "      <th>Restaurant ID</th>\n",
       "      <th>Order Date and Time</th>\n",
       "      <th>Delivery Date and Time</th>\n",
       "      <th>Order Value</th>\n",
       "      <th>Delivery Fee</th>\n",
       "      <th>Payment Method</th>\n",
       "      <th>Discounts and Offers</th>\n",
       "      <th>Commission Fee</th>\n",
       "      <th>Payment Processing Fee</th>\n",
       "      <th>Refunds/Chargebacks</th>\n",
       "    </tr>\n",
       "  </thead>\n",
       "  <tbody>\n",
       "    <tr>\n",
       "      <th>0</th>\n",
       "      <td>1</td>\n",
       "      <td>C8270</td>\n",
       "      <td>R2924</td>\n",
       "      <td>2024-02-01 01:11:52</td>\n",
       "      <td>2024-02-01 02:39:52</td>\n",
       "      <td>1914</td>\n",
       "      <td>0</td>\n",
       "      <td>Credit Card</td>\n",
       "      <td>5% on App</td>\n",
       "      <td>150</td>\n",
       "      <td>47</td>\n",
       "      <td>0</td>\n",
       "    </tr>\n",
       "    <tr>\n",
       "      <th>1</th>\n",
       "      <td>2</td>\n",
       "      <td>C1860</td>\n",
       "      <td>R2054</td>\n",
       "      <td>2024-02-02 22:11:04</td>\n",
       "      <td>2024-02-02 22:46:04</td>\n",
       "      <td>986</td>\n",
       "      <td>40</td>\n",
       "      <td>Digital Wallet</td>\n",
       "      <td>10%</td>\n",
       "      <td>198</td>\n",
       "      <td>23</td>\n",
       "      <td>0</td>\n",
       "    </tr>\n",
       "    <tr>\n",
       "      <th>2</th>\n",
       "      <td>3</td>\n",
       "      <td>C6390</td>\n",
       "      <td>R2870</td>\n",
       "      <td>2024-01-31 05:54:35</td>\n",
       "      <td>2024-01-31 06:52:35</td>\n",
       "      <td>937</td>\n",
       "      <td>30</td>\n",
       "      <td>Cash on Delivery</td>\n",
       "      <td>15% New User</td>\n",
       "      <td>195</td>\n",
       "      <td>45</td>\n",
       "      <td>0</td>\n",
       "    </tr>\n",
       "    <tr>\n",
       "      <th>3</th>\n",
       "      <td>4</td>\n",
       "      <td>C6191</td>\n",
       "      <td>R2642</td>\n",
       "      <td>2024-01-16 22:52:49</td>\n",
       "      <td>2024-01-16 23:38:49</td>\n",
       "      <td>1463</td>\n",
       "      <td>50</td>\n",
       "      <td>Cash on Delivery</td>\n",
       "      <td>0</td>\n",
       "      <td>146</td>\n",
       "      <td>27</td>\n",
       "      <td>0</td>\n",
       "    </tr>\n",
       "    <tr>\n",
       "      <th>4</th>\n",
       "      <td>5</td>\n",
       "      <td>C6734</td>\n",
       "      <td>R2799</td>\n",
       "      <td>2024-01-29 01:19:30</td>\n",
       "      <td>2024-01-29 02:48:30</td>\n",
       "      <td>1992</td>\n",
       "      <td>30</td>\n",
       "      <td>Cash on Delivery</td>\n",
       "      <td>50 off Promo</td>\n",
       "      <td>130</td>\n",
       "      <td>50</td>\n",
       "      <td>0</td>\n",
       "    </tr>\n",
       "    <tr>\n",
       "      <th>...</th>\n",
       "      <td>...</td>\n",
       "      <td>...</td>\n",
       "      <td>...</td>\n",
       "      <td>...</td>\n",
       "      <td>...</td>\n",
       "      <td>...</td>\n",
       "      <td>...</td>\n",
       "      <td>...</td>\n",
       "      <td>...</td>\n",
       "      <td>...</td>\n",
       "      <td>...</td>\n",
       "      <td>...</td>\n",
       "    </tr>\n",
       "    <tr>\n",
       "      <th>995</th>\n",
       "      <td>996</td>\n",
       "      <td>C6232</td>\n",
       "      <td>R2129</td>\n",
       "      <td>2024-01-14 05:57:00</td>\n",
       "      <td>2024-01-14 06:39:00</td>\n",
       "      <td>825</td>\n",
       "      <td>0</td>\n",
       "      <td>Digital Wallet</td>\n",
       "      <td>5% on App</td>\n",
       "      <td>165</td>\n",
       "      <td>47</td>\n",
       "      <td>50</td>\n",
       "    </tr>\n",
       "    <tr>\n",
       "      <th>996</th>\n",
       "      <td>997</td>\n",
       "      <td>C6797</td>\n",
       "      <td>R2742</td>\n",
       "      <td>2024-01-28 08:50:43</td>\n",
       "      <td>2024-01-28 10:10:43</td>\n",
       "      <td>1627</td>\n",
       "      <td>50</td>\n",
       "      <td>Cash on Delivery</td>\n",
       "      <td>0</td>\n",
       "      <td>110</td>\n",
       "      <td>42</td>\n",
       "      <td>0</td>\n",
       "    </tr>\n",
       "    <tr>\n",
       "      <th>997</th>\n",
       "      <td>998</td>\n",
       "      <td>C5926</td>\n",
       "      <td>R2837</td>\n",
       "      <td>2024-01-21 09:43:19</td>\n",
       "      <td>2024-01-21 10:44:19</td>\n",
       "      <td>553</td>\n",
       "      <td>20</td>\n",
       "      <td>Cash on Delivery</td>\n",
       "      <td>0</td>\n",
       "      <td>64</td>\n",
       "      <td>31</td>\n",
       "      <td>0</td>\n",
       "    </tr>\n",
       "    <tr>\n",
       "      <th>998</th>\n",
       "      <td>999</td>\n",
       "      <td>C7016</td>\n",
       "      <td>R2144</td>\n",
       "      <td>2024-01-30 22:23:38</td>\n",
       "      <td>2024-01-31 00:07:38</td>\n",
       "      <td>1414</td>\n",
       "      <td>0</td>\n",
       "      <td>Cash on Delivery</td>\n",
       "      <td>15% New User</td>\n",
       "      <td>199</td>\n",
       "      <td>34</td>\n",
       "      <td>0</td>\n",
       "    </tr>\n",
       "    <tr>\n",
       "      <th>999</th>\n",
       "      <td>1000</td>\n",
       "      <td>C4335</td>\n",
       "      <td>R2890</td>\n",
       "      <td>2024-01-08 14:46:43</td>\n",
       "      <td>2024-01-08 15:39:43</td>\n",
       "      <td>1657</td>\n",
       "      <td>20</td>\n",
       "      <td>Digital Wallet</td>\n",
       "      <td>15% New User</td>\n",
       "      <td>180</td>\n",
       "      <td>27</td>\n",
       "      <td>100</td>\n",
       "    </tr>\n",
       "  </tbody>\n",
       "</table>\n",
       "<p>1000 rows × 12 columns</p>\n",
       "</div>"
      ],
      "text/plain": [
       "     Order ID Customer ID Restaurant ID  Order Date and Time  \\\n",
       "0           1       C8270         R2924  2024-02-01 01:11:52   \n",
       "1           2       C1860         R2054  2024-02-02 22:11:04   \n",
       "2           3       C6390         R2870  2024-01-31 05:54:35   \n",
       "3           4       C6191         R2642  2024-01-16 22:52:49   \n",
       "4           5       C6734         R2799  2024-01-29 01:19:30   \n",
       "..        ...         ...           ...                  ...   \n",
       "995       996       C6232         R2129  2024-01-14 05:57:00   \n",
       "996       997       C6797         R2742  2024-01-28 08:50:43   \n",
       "997       998       C5926         R2837  2024-01-21 09:43:19   \n",
       "998       999       C7016         R2144  2024-01-30 22:23:38   \n",
       "999      1000       C4335         R2890  2024-01-08 14:46:43   \n",
       "\n",
       "    Delivery Date and Time  Order Value  Delivery Fee    Payment Method  \\\n",
       "0      2024-02-01 02:39:52         1914             0       Credit Card   \n",
       "1      2024-02-02 22:46:04          986            40    Digital Wallet   \n",
       "2      2024-01-31 06:52:35          937            30  Cash on Delivery   \n",
       "3      2024-01-16 23:38:49         1463            50  Cash on Delivery   \n",
       "4      2024-01-29 02:48:30         1992            30  Cash on Delivery   \n",
       "..                     ...          ...           ...               ...   \n",
       "995    2024-01-14 06:39:00          825             0    Digital Wallet   \n",
       "996    2024-01-28 10:10:43         1627            50  Cash on Delivery   \n",
       "997    2024-01-21 10:44:19          553            20  Cash on Delivery   \n",
       "998    2024-01-31 00:07:38         1414             0  Cash on Delivery   \n",
       "999    2024-01-08 15:39:43         1657            20    Digital Wallet   \n",
       "\n",
       "    Discounts and Offers  Commission Fee  Payment Processing Fee  \\\n",
       "0              5% on App             150                      47   \n",
       "1                    10%             198                      23   \n",
       "2           15% New User             195                      45   \n",
       "3                      0             146                      27   \n",
       "4           50 off Promo             130                      50   \n",
       "..                   ...             ...                     ...   \n",
       "995            5% on App             165                      47   \n",
       "996                    0             110                      42   \n",
       "997                    0              64                      31   \n",
       "998         15% New User             199                      34   \n",
       "999         15% New User             180                      27   \n",
       "\n",
       "     Refunds/Chargebacks  \n",
       "0                      0  \n",
       "1                      0  \n",
       "2                      0  \n",
       "3                      0  \n",
       "4                      0  \n",
       "..                   ...  \n",
       "995                   50  \n",
       "996                    0  \n",
       "997                    0  \n",
       "998                    0  \n",
       "999                  100  \n",
       "\n",
       "[1000 rows x 12 columns]"
      ]
     },
     "execution_count": 10,
     "metadata": {},
     "output_type": "execute_result"
    }
   ],
   "source": [
    "df.fillna(0)"
   ]
  },
  {
   "cell_type": "markdown",
   "id": "f130b73f-2ff1-4a65-9459-f5b107885e78",
   "metadata": {},
   "source": [
    "### 4.3.2 Currency swap from Indian Rupee to Bahraini Dinar (Optional)"
   ]
  },
  {
   "cell_type": "code",
   "execution_count": 11,
   "id": "61d10850-5730-4a65-a23d-aacdfaad54df",
   "metadata": {},
   "outputs": [],
   "source": [
    "exchange_rate_inr_to_bhd = 0.0045  \n",
    "\n",
    "df[\"Order Value\"] = df[\"Order Value\"] * exchange_rate_inr_to_bhd\n",
    "df[\"Payment Processing Fee\"] = df[\"Payment Processing Fee\"] * exchange_rate_inr_to_bhd\n",
    "df[\"Commission Fee\"] = df[\"Commission Fee\"] * exchange_rate_inr_to_bhd\n",
    "df[\"Delivery Fee\"] = df[\"Delivery Fee\"] * exchange_rate_inr_to_bhd"
   ]
  },
  {
   "cell_type": "markdown",
   "id": "fb2881f0-1a63-4527-934d-a118e76972da",
   "metadata": {},
   "source": [
    "# 5 Data types"
   ]
  },
  {
   "cell_type": "markdown",
   "id": "de137346-2658-43b4-87d5-fb48cb39d179",
   "metadata": {},
   "source": [
    "## 5.1 Changing the discount coloumn to integers only"
   ]
  },
  {
   "cell_type": "code",
   "execution_count": 12,
   "id": "f78b18de-f060-440e-a06a-3005c9049389",
   "metadata": {},
   "outputs": [],
   "source": [
    "def extract_numeric(par):\n",
    "    if isinstance(par, str):\n",
    "        numeric_str = []\n",
    "        for char in par:\n",
    "            if char.isnumeric():\n",
    "                numeric_str.append(char)\n",
    "        numeric_str = \"\".join(numeric_str)\n",
    "        return int(numeric_str)\n",
    "    else:\n",
    "        return 0\n",
    "\n",
    "\n",
    "df[\"Discounts and Offers\"] = df[\"Discounts and Offers\"].apply(extract_numeric)"
   ]
  },
  {
   "cell_type": "markdown",
   "id": "0544c894-045b-4ed5-94d2-e0f5b2b78e62",
   "metadata": {},
   "source": [
    "## 5.2 Creating a new discount amount column"
   ]
  },
  {
   "cell_type": "code",
   "execution_count": 13,
   "id": "7b41d344-b0ec-4bb5-9e2c-6641a079cad3",
   "metadata": {},
   "outputs": [],
   "source": [
    "df[\"Discount Amount\"] = df.apply(lambda row: (row[\"Order Value\"] * row[\"Discounts and Offers\"] / 100), axis=1)"
   ]
  },
  {
   "cell_type": "markdown",
   "id": "e03c8761-141d-4904-87f8-f9af4106d4c3",
   "metadata": {},
   "source": [
    "# 6 Cost Analysis"
   ]
  },
  {
   "cell_type": "code",
   "execution_count": 14,
   "id": "3c87f986-1c34-4676-ae4b-1b01b121780f",
   "metadata": {},
   "outputs": [
    {
     "data": {
      "text/html": [
       "<div>\n",
       "<style scoped>\n",
       "    .dataframe tbody tr th:only-of-type {\n",
       "        vertical-align: middle;\n",
       "    }\n",
       "\n",
       "    .dataframe tbody tr th {\n",
       "        vertical-align: top;\n",
       "    }\n",
       "\n",
       "    .dataframe thead th {\n",
       "        text-align: right;\n",
       "    }\n",
       "</style>\n",
       "<table border=\"1\" class=\"dataframe\">\n",
       "  <thead>\n",
       "    <tr style=\"text-align: right;\">\n",
       "      <th></th>\n",
       "      <th>Order ID</th>\n",
       "      <th>Order Value</th>\n",
       "      <th>Delivery Fee</th>\n",
       "      <th>Discounts and Offers</th>\n",
       "      <th>Commission Fee</th>\n",
       "      <th>Payment Processing Fee</th>\n",
       "      <th>Refunds/Chargebacks</th>\n",
       "      <th>Discount Amount</th>\n",
       "    </tr>\n",
       "  </thead>\n",
       "  <tbody>\n",
       "    <tr>\n",
       "      <th>count</th>\n",
       "      <td>1000.000000</td>\n",
       "      <td>1000.000000</td>\n",
       "      <td>1000.000000</td>\n",
       "      <td>1000.000000</td>\n",
       "      <td>1000.000000</td>\n",
       "      <td>1000.000000</td>\n",
       "      <td>1000.000000</td>\n",
       "      <td>1000.000000</td>\n",
       "    </tr>\n",
       "    <tr>\n",
       "      <th>mean</th>\n",
       "      <td>500.500000</td>\n",
       "      <td>4.742860</td>\n",
       "      <td>0.128790</td>\n",
       "      <td>16.265000</td>\n",
       "      <td>0.571455</td>\n",
       "      <td>0.134244</td>\n",
       "      <td>28.300000</td>\n",
       "      <td>0.784160</td>\n",
       "    </tr>\n",
       "    <tr>\n",
       "      <th>std</th>\n",
       "      <td>288.819436</td>\n",
       "      <td>2.389389</td>\n",
       "      <td>0.076312</td>\n",
       "      <td>17.626272</td>\n",
       "      <td>0.193788</td>\n",
       "      <td>0.052322</td>\n",
       "      <td>49.614228</td>\n",
       "      <td>1.035717</td>\n",
       "    </tr>\n",
       "    <tr>\n",
       "      <th>min</th>\n",
       "      <td>1.000000</td>\n",
       "      <td>0.468000</td>\n",
       "      <td>0.000000</td>\n",
       "      <td>0.000000</td>\n",
       "      <td>0.225000</td>\n",
       "      <td>0.045000</td>\n",
       "      <td>0.000000</td>\n",
       "      <td>0.000000</td>\n",
       "    </tr>\n",
       "    <tr>\n",
       "      <th>25%</th>\n",
       "      <td>250.750000</td>\n",
       "      <td>2.689875</td>\n",
       "      <td>0.090000</td>\n",
       "      <td>5.000000</td>\n",
       "      <td>0.405000</td>\n",
       "      <td>0.090000</td>\n",
       "      <td>0.000000</td>\n",
       "      <td>0.120769</td>\n",
       "    </tr>\n",
       "    <tr>\n",
       "      <th>50%</th>\n",
       "      <td>500.500000</td>\n",
       "      <td>4.673250</td>\n",
       "      <td>0.135000</td>\n",
       "      <td>10.000000</td>\n",
       "      <td>0.571500</td>\n",
       "      <td>0.135000</td>\n",
       "      <td>0.000000</td>\n",
       "      <td>0.389700</td>\n",
       "    </tr>\n",
       "    <tr>\n",
       "      <th>75%</th>\n",
       "      <td>750.250000</td>\n",
       "      <td>6.723000</td>\n",
       "      <td>0.180000</td>\n",
       "      <td>15.000000</td>\n",
       "      <td>0.738000</td>\n",
       "      <td>0.180000</td>\n",
       "      <td>50.000000</td>\n",
       "      <td>0.883800</td>\n",
       "    </tr>\n",
       "    <tr>\n",
       "      <th>max</th>\n",
       "      <td>1000.000000</td>\n",
       "      <td>8.977500</td>\n",
       "      <td>0.225000</td>\n",
       "      <td>50.000000</td>\n",
       "      <td>0.900000</td>\n",
       "      <td>0.225000</td>\n",
       "      <td>150.000000</td>\n",
       "      <td>4.482000</td>\n",
       "    </tr>\n",
       "  </tbody>\n",
       "</table>\n",
       "</div>"
      ],
      "text/plain": [
       "          Order ID  Order Value  Delivery Fee  Discounts and Offers  \\\n",
       "count  1000.000000  1000.000000   1000.000000           1000.000000   \n",
       "mean    500.500000     4.742860      0.128790             16.265000   \n",
       "std     288.819436     2.389389      0.076312             17.626272   \n",
       "min       1.000000     0.468000      0.000000              0.000000   \n",
       "25%     250.750000     2.689875      0.090000              5.000000   \n",
       "50%     500.500000     4.673250      0.135000             10.000000   \n",
       "75%     750.250000     6.723000      0.180000             15.000000   \n",
       "max    1000.000000     8.977500      0.225000             50.000000   \n",
       "\n",
       "       Commission Fee  Payment Processing Fee  Refunds/Chargebacks  \\\n",
       "count     1000.000000             1000.000000          1000.000000   \n",
       "mean         0.571455                0.134244            28.300000   \n",
       "std          0.193788                0.052322            49.614228   \n",
       "min          0.225000                0.045000             0.000000   \n",
       "25%          0.405000                0.090000             0.000000   \n",
       "50%          0.571500                0.135000             0.000000   \n",
       "75%          0.738000                0.180000            50.000000   \n",
       "max          0.900000                0.225000           150.000000   \n",
       "\n",
       "       Discount Amount  \n",
       "count      1000.000000  \n",
       "mean          0.784160  \n",
       "std           1.035717  \n",
       "min           0.000000  \n",
       "25%           0.120769  \n",
       "50%           0.389700  \n",
       "75%           0.883800  \n",
       "max           4.482000  "
      ]
     },
     "execution_count": 14,
     "metadata": {},
     "output_type": "execute_result"
    }
   ],
   "source": [
    "df.describe()"
   ]
  },
  {
   "cell_type": "markdown",
   "id": "6727c40d-6973-41c5-bcdf-ed47cfeec098",
   "metadata": {},
   "source": [
    "## 6.1 Profit calculation"
   ]
  },
  {
   "cell_type": "code",
   "execution_count": 15,
   "id": "8a0ede79-6db5-4ca8-80b2-bba75fac5b9c",
   "metadata": {},
   "outputs": [],
   "source": [
    "df[\"Total Cost\"] = df[\"Delivery Fee\"] + df[\"Payment Processing Fee\"] + df[\"Discount Amount\"]\n",
    "df[\"Revenue\"] = df[\"Commission Fee\"]\n",
    "df[\"Profit\"] = df[\"Revenue\"] - df[\"Total Cost\"]"
   ]
  },
  {
   "cell_type": "code",
   "execution_count": 16,
   "id": "590f8a28-69c4-48dc-84f4-3fae13ae27bc",
   "metadata": {},
   "outputs": [
    {
     "data": {
      "text/plain": [
       "-0.475739325"
      ]
     },
     "execution_count": 16,
     "metadata": {},
     "output_type": "execute_result"
    }
   ],
   "source": [
    "df[\"Profit\"].mean()"
   ]
  },
  {
   "cell_type": "markdown",
   "id": "e9a439f0-9381-418a-a571-86462f65a0a3",
   "metadata": {},
   "source": [
    "## 6.2 Total metrics"
   ]
  },
  {
   "cell_type": "code",
   "execution_count": 17,
   "id": "83e08631-eb34-426a-8419-285c9bae6a9b",
   "metadata": {},
   "outputs": [
    {
     "name": "stdout",
     "output_type": "stream",
     "text": [
      "Total Orders: 1000\n",
      "Total_Revenue: 571.4549999999999\n",
      "Total Cost: 1047.194325\n",
      "Total Profit: -475.739325\n"
     ]
    }
   ],
   "source": [
    "total_orders = df.shape[0]\n",
    "total_revenue = df[\"Revenue\"].sum()\n",
    "total_cost = df[\"Total Cost\"].sum()\n",
    "total_profit = df[\"Profit\"].sum()\n",
    "\n",
    "print(\"Total Orders:\",total_orders)\n",
    "print(\"Total_Revenue:\",total_revenue)\n",
    "print(\"Total Cost:\",total_cost)\n",
    "print(\"Total Profit:\",total_profit)"
   ]
  },
  {
   "cell_type": "markdown",
   "id": "d3ae4e6a-a96c-4d83-b698-f292f8357f38",
   "metadata": {},
   "source": [
    "### 6.2.1 Profitability ratio"
   ]
  },
  {
   "cell_type": "code",
   "execution_count": 18,
   "id": "57bfae1e-7264-4b31-a043-350b7376157e",
   "metadata": {},
   "outputs": [
    {
     "name": "stdout",
     "output_type": "stream",
     "text": [
      "-0.8325053153791638\n"
     ]
    }
   ],
   "source": [
    "profit_ratio = total_profit / total_revenue\n",
    "print(profit_ratio)"
   ]
  },
  {
   "cell_type": "markdown",
   "id": "627c00ac-7a69-4045-84f6-01c454ceab0b",
   "metadata": {},
   "source": [
    "## 6.3 Cost breakdown"
   ]
  },
  {
   "cell_type": "code",
   "execution_count": 19,
   "id": "dfff1924-d5c3-4109-ae7c-d83587d5b547",
   "metadata": {},
   "outputs": [
    {
     "data": {
      "image/png": "[encoded data removed]",
      "text/plain": [
       "<Figure size 640x480 with 1 Axes>"
      ]
     },
     "metadata": {},
     "output_type": "display_data"
    }
   ],
   "source": [
    "costs_breakdown = df[[\"Delivery Fee\", \"Payment Processing Fee\", \"Discount Amount\"]].sum()\n",
    "\n",
    "plot = plt.pie(costs_breakdown, labels=costs_breakdown.index, autopct='%1.1f%%')"
   ]
  },
  {
   "cell_type": "markdown",
   "id": "9c457365-9eea-4637-848a-9cd5ee7e42d6",
   "metadata": {},
   "source": [
    "## 6.5 Cost-Revenue-Profit Time series analysis"
   ]
  },
  {
   "cell_type": "code",
   "execution_count": 20,
   "id": "37068b94-7cd4-4876-9e3e-0899c0c89dcc",
   "metadata": {},
   "outputs": [],
   "source": [
    "df[\"Order Date and Time\"] = pd.to_datetime(df[\"Order Date and Time\"])"
   ]
  },
  {
   "cell_type": "code",
   "execution_count": 35,
   "id": "9bbcb603-d673-42c4-98bc-401a20711303",
   "metadata": {},
   "outputs": [
    {
     "data": {
      "image/png": "[encoded data removed]",
      "text/plain": [
       "<Figure size 1400x500 with 1 Axes>"
      ]
     },
     "metadata": {},
     "output_type": "display_data"
    }
   ],
   "source": [
    "df[\"Order Date\"] = df[\"Order Date and Time\"].dt.date\n",
    "\n",
    "cost_by_date = df.groupby(\"Order Date\")[\"Total Cost\"].sum().reset_index()\n",
    "\n",
    "revenue_by_date = df.groupby(\"Order Date\")[\"Revenue\"].sum().reset_index()\n",
    "\n",
    "profit_by_date = df.groupby(\"Order Date\")[\"Profit\"].sum().reset_index()\n",
    "\n",
    "\n",
    "\n",
    "plt.figure(figsize=(14, 5))\n",
    "plt.xticks(rotation=15)\n",
    "\n",
    "plt.plot(cost_by_date[\"Order Date\"], cost_by_date[\"Total Cost\"], label=\"Costs\")\n",
    "\n",
    "plt.plot(revenue_by_date[\"Order Date\"], revenue_by_date[\"Revenue\"], label=\"Revenue\")\n",
    "\n",
    "plt.plot(profit_by_date[\"Order Date\"], profit_by_date[\"Profit\"], label=\"Profit\")\n",
    "\n",
    "\n",
    "plt.title('Total costs by day')\n",
    "plt.xlabel('Date')\n",
    "plt.ylabel('Cost')\n",
    "plt.grid(True)\n",
    "plt.legend(loc=\"upper right\")\n",
    "plt.show()"
   ]
  },
  {
   "cell_type": "markdown",
   "id": "c5dde6a1-50b6-42fb-ab98-b19985db986c",
   "metadata": {},
   "source": [
    "# 7 Restaurant analysis"
   ]
  },
  {
   "cell_type": "markdown",
   "id": "3fe12783-1841-4434-8c8c-1f69c9f6bdd3",
   "metadata": {},
   "source": [
    "## 7.1 Restaurant popularity chart"
   ]
  },
  {
   "cell_type": "code",
   "execution_count": 37,
   "id": "8f96e31c-a1e2-4d99-b284-b652c9bdd47a",
   "metadata": {},
   "outputs": [
    {
     "data": {
      "text/plain": [
       "<Axes: xlabel='Restaurant ID', ylabel='count'>"
      ]
     },
     "execution_count": 37,
     "metadata": {},
     "output_type": "execute_result"
    },
    {
     "data": {
      "image/png": "[encoded data removed]",
      "text/plain": [
       "<Figure size 1400x600 with 1 Axes>"
      ]
     },
     "metadata": {},
     "output_type": "display_data"
    }
   ],
   "source": [
    "restaurant_counts = df[\"Restaurant ID\"].value_counts().reset_index()\n",
    "\n",
    "\n",
    "\n",
    "plt.figure(figsize=(14, 6))\n",
    "sns.barplot(x='Restaurant ID', y='count', data=restaurant_counts)"
   ]
  },
  {
   "cell_type": "markdown",
   "id": "07d9fee5-a28a-46f2-8a81-f3c2d60c5938",
   "metadata": {},
   "source": [
    "### 7.1.1 Top 5 Restaurants by orders"
   ]
  },
  {
   "cell_type": "code",
   "execution_count": 122,
   "id": "4088d3e2-f62e-4226-8a5c-d36d829243ec",
   "metadata": {},
   "outputs": [
    {
     "data": {
      "text/html": [
       "<div>\n",
       "<style scoped>\n",
       "    .dataframe tbody tr th:only-of-type {\n",
       "        vertical-align: middle;\n",
       "    }\n",
       "\n",
       "    .dataframe tbody tr th {\n",
       "        vertical-align: top;\n",
       "    }\n",
       "\n",
       "    .dataframe thead th {\n",
       "        text-align: right;\n",
       "    }\n",
       "</style>\n",
       "<table border=\"1\" class=\"dataframe\">\n",
       "  <thead>\n",
       "    <tr style=\"text-align: right;\">\n",
       "      <th></th>\n",
       "      <th>Restaurant ID</th>\n",
       "      <th>count</th>\n",
       "    </tr>\n",
       "  </thead>\n",
       "  <tbody>\n",
       "    <tr>\n",
       "      <th>0</th>\n",
       "      <td>R2317</td>\n",
       "      <td>6</td>\n",
       "    </tr>\n",
       "    <tr>\n",
       "      <th>1</th>\n",
       "      <td>R2804</td>\n",
       "      <td>5</td>\n",
       "    </tr>\n",
       "    <tr>\n",
       "      <th>2</th>\n",
       "      <td>R2726</td>\n",
       "      <td>5</td>\n",
       "    </tr>\n",
       "    <tr>\n",
       "      <th>3</th>\n",
       "      <td>R2523</td>\n",
       "      <td>5</td>\n",
       "    </tr>\n",
       "    <tr>\n",
       "      <th>4</th>\n",
       "      <td>R2016</td>\n",
       "      <td>5</td>\n",
       "    </tr>\n",
       "  </tbody>\n",
       "</table>\n",
       "</div>"
      ],
      "text/plain": [
       "  Restaurant ID  count\n",
       "0         R2317      6\n",
       "1         R2804      5\n",
       "2         R2726      5\n",
       "3         R2523      5\n",
       "4         R2016      5"
      ]
     },
     "execution_count": 122,
     "metadata": {},
     "output_type": "execute_result"
    }
   ],
   "source": [
    "restaurant_counts.head(5)"
   ]
  },
  {
   "cell_type": "markdown",
   "id": "13fd853e-5656-4586-8c1e-b810b7166567",
   "metadata": {},
   "source": [
    "## 7.2 Restaurants by profit"
   ]
  },
  {
   "cell_type": "code",
   "execution_count": 94,
   "id": "9da5f5f0-786a-4575-831b-d1592979ca58",
   "metadata": {},
   "outputs": [],
   "source": [
    "profit_per_restaurant = df.groupby(\"Restaurant ID\")[\"Profit\"].sum().reset_index()"
   ]
  },
  {
   "cell_type": "markdown",
   "id": "01687027-21ad-4622-ae46-7e4e819ed34b",
   "metadata": {},
   "source": [
    "### 7.2.1 sorting restaurant by profit"
   ]
  },
  {
   "cell_type": "code",
   "execution_count": 126,
   "id": "db584dbf-c5ac-49b1-87de-cebeec2524fe",
   "metadata": {},
   "outputs": [],
   "source": [
    "profit_per_restaurant = profit_per_restaurant.sort_values(by=\"Profit\", ascending=False).reset_index()"
   ]
  },
  {
   "cell_type": "markdown",
   "id": "613329a0-b50c-4801-8639-a8b7512e2dce",
   "metadata": {},
   "source": [
    "### 7.2.2 droping the index column"
   ]
  },
  {
   "cell_type": "code",
   "execution_count": 127,
   "id": "034c5e59-c985-49ed-8945-f920331a1eef",
   "metadata": {},
   "outputs": [
    {
     "data": {
      "text/html": [
       "<div>\n",
       "<style scoped>\n",
       "    .dataframe tbody tr th:only-of-type {\n",
       "        vertical-align: middle;\n",
       "    }\n",
       "\n",
       "    .dataframe tbody tr th {\n",
       "        vertical-align: top;\n",
       "    }\n",
       "\n",
       "    .dataframe thead th {\n",
       "        text-align: right;\n",
       "    }\n",
       "</style>\n",
       "<table border=\"1\" class=\"dataframe\">\n",
       "  <thead>\n",
       "    <tr style=\"text-align: right;\">\n",
       "      <th></th>\n",
       "      <th>Restaurant ID</th>\n",
       "      <th>Profit</th>\n",
       "    </tr>\n",
       "  </thead>\n",
       "  <tbody>\n",
       "    <tr>\n",
       "      <th>0</th>\n",
       "      <td>R2915</td>\n",
       "      <td>1.119600</td>\n",
       "    </tr>\n",
       "    <tr>\n",
       "      <th>1</th>\n",
       "      <td>R2570</td>\n",
       "      <td>1.106325</td>\n",
       "    </tr>\n",
       "    <tr>\n",
       "      <th>2</th>\n",
       "      <td>R2250</td>\n",
       "      <td>0.949725</td>\n",
       "    </tr>\n",
       "    <tr>\n",
       "      <th>3</th>\n",
       "      <td>R2925</td>\n",
       "      <td>0.886050</td>\n",
       "    </tr>\n",
       "    <tr>\n",
       "      <th>4</th>\n",
       "      <td>R2778</td>\n",
       "      <td>0.871875</td>\n",
       "    </tr>\n",
       "  </tbody>\n",
       "</table>\n",
       "</div>"
      ],
      "text/plain": [
       "  Restaurant ID    Profit\n",
       "0         R2915  1.119600\n",
       "1         R2570  1.106325\n",
       "2         R2250  0.949725\n",
       "3         R2925  0.886050\n",
       "4         R2778  0.871875"
      ]
     },
     "execution_count": 127,
     "metadata": {},
     "output_type": "execute_result"
    }
   ],
   "source": [
    "profit_per_restaurant = profit_per_restaurant.drop(\"index\", axis=1)\n",
    "profit_per_restaurant.head(5)"
   ]
  },
  {
   "cell_type": "markdown",
   "id": "769af59c-d46e-48f7-8fc7-0ce6e6d0e88e",
   "metadata": {},
   "source": [
    "## 7.3 Popularity-profitability analysis"
   ]
  },
  {
   "cell_type": "markdown",
   "id": "0d30d37e-e2eb-49f7-9e14-dd6d2eac3e14",
   "metadata": {},
   "source": [
    "### 7.3.1 Top 5 restaurant by number of orders"
   ]
  },
  {
   "cell_type": "code",
   "execution_count": 121,
   "id": "c8691d33-9c4e-430a-937c-2b38222806c4",
   "metadata": {},
   "outputs": [
    {
     "data": {
      "text/html": [
       "<div>\n",
       "<style scoped>\n",
       "    .dataframe tbody tr th:only-of-type {\n",
       "        vertical-align: middle;\n",
       "    }\n",
       "\n",
       "    .dataframe tbody tr th {\n",
       "        vertical-align: top;\n",
       "    }\n",
       "\n",
       "    .dataframe thead th {\n",
       "        text-align: right;\n",
       "    }\n",
       "</style>\n",
       "<table border=\"1\" class=\"dataframe\">\n",
       "  <thead>\n",
       "    <tr style=\"text-align: right;\">\n",
       "      <th></th>\n",
       "      <th>Restaurant ID</th>\n",
       "      <th>count</th>\n",
       "      <th>Profit</th>\n",
       "    </tr>\n",
       "  </thead>\n",
       "  <tbody>\n",
       "    <tr>\n",
       "      <th>0</th>\n",
       "      <td>R2317</td>\n",
       "      <td>6</td>\n",
       "      <td>-1.259775</td>\n",
       "    </tr>\n",
       "    <tr>\n",
       "      <th>1</th>\n",
       "      <td>R2804</td>\n",
       "      <td>5</td>\n",
       "      <td>-0.719550</td>\n",
       "    </tr>\n",
       "    <tr>\n",
       "      <th>2</th>\n",
       "      <td>R2726</td>\n",
       "      <td>5</td>\n",
       "      <td>-1.819800</td>\n",
       "    </tr>\n",
       "    <tr>\n",
       "      <th>3</th>\n",
       "      <td>R2523</td>\n",
       "      <td>5</td>\n",
       "      <td>0.218025</td>\n",
       "    </tr>\n",
       "    <tr>\n",
       "      <th>4</th>\n",
       "      <td>R2016</td>\n",
       "      <td>5</td>\n",
       "      <td>-3.446775</td>\n",
       "    </tr>\n",
       "  </tbody>\n",
       "</table>\n",
       "</div>"
      ],
      "text/plain": [
       "  Restaurant ID  count    Profit\n",
       "0         R2317      6 -1.259775\n",
       "1         R2804      5 -0.719550\n",
       "2         R2726      5 -1.819800\n",
       "3         R2523      5  0.218025\n",
       "4         R2016      5 -3.446775"
      ]
     },
     "execution_count": 121,
     "metadata": {},
     "output_type": "execute_result"
    }
   ],
   "source": [
    "merged_df = pd.merge(restaurant_counts, profit_per_restaurant, on='Restaurant ID', how='left')\n",
    "\n",
    "merged_df.head(5)"
   ]
  },
  {
   "cell_type": "markdown",
   "id": "78bb54eb-e432-4f14-b363-ad726e172725",
   "metadata": {},
   "source": [
    "### 7.3.1 Top 5 restaurant by profit"
   ]
  },
  {
   "cell_type": "code",
   "execution_count": 130,
   "id": "45e73035-2c9c-449c-8ab7-07a4442dd12a",
   "metadata": {},
   "outputs": [
    {
     "data": {
      "text/html": [
       "<div>\n",
       "<style scoped>\n",
       "    .dataframe tbody tr th:only-of-type {\n",
       "        vertical-align: middle;\n",
       "    }\n",
       "\n",
       "    .dataframe tbody tr th {\n",
       "        vertical-align: top;\n",
       "    }\n",
       "\n",
       "    .dataframe thead th {\n",
       "        text-align: right;\n",
       "    }\n",
       "</style>\n",
       "<table border=\"1\" class=\"dataframe\">\n",
       "  <thead>\n",
       "    <tr style=\"text-align: right;\">\n",
       "      <th></th>\n",
       "      <th>Restaurant ID</th>\n",
       "      <th>count</th>\n",
       "      <th>Profit</th>\n",
       "    </tr>\n",
       "  </thead>\n",
       "  <tbody>\n",
       "    <tr>\n",
       "      <th>37</th>\n",
       "      <td>R2915</td>\n",
       "      <td>3</td>\n",
       "      <td>1.119600</td>\n",
       "    </tr>\n",
       "    <tr>\n",
       "      <th>11</th>\n",
       "      <td>R2570</td>\n",
       "      <td>4</td>\n",
       "      <td>1.106325</td>\n",
       "    </tr>\n",
       "    <tr>\n",
       "      <th>60</th>\n",
       "      <td>R2250</td>\n",
       "      <td>3</td>\n",
       "      <td>0.949725</td>\n",
       "    </tr>\n",
       "    <tr>\n",
       "      <th>142</th>\n",
       "      <td>R2925</td>\n",
       "      <td>2</td>\n",
       "      <td>0.886050</td>\n",
       "    </tr>\n",
       "    <tr>\n",
       "      <th>78</th>\n",
       "      <td>R2778</td>\n",
       "      <td>2</td>\n",
       "      <td>0.871875</td>\n",
       "    </tr>\n",
       "  </tbody>\n",
       "</table>\n",
       "</div>"
      ],
      "text/plain": [
       "    Restaurant ID  count    Profit\n",
       "37          R2915      3  1.119600\n",
       "11          R2570      4  1.106325\n",
       "60          R2250      3  0.949725\n",
       "142         R2925      2  0.886050\n",
       "78          R2778      2  0.871875"
      ]
     },
     "execution_count": 130,
     "metadata": {},
     "output_type": "execute_result"
    }
   ],
   "source": [
    "merged_df.sort_values([\"Profit\"], ascending = False).head(5)"
   ]
  },
  {
   "cell_type": "code",
   "execution_count": null,
   "id": "c08927c5-b14e-4078-91ec-143810f70de5",
   "metadata": {},
   "outputs": [],
   "source": []
  }
 ],
 "metadata": {
  "kernelspec": {
   "display_name": "Python 3 (ipykernel)",
   "language": "python",
   "name": "python3"
  },
  "language_info": {
   "codemirror_mode": {
    "name": "ipython",
    "version": 3
   },
   "file_extension": ".py",
   "mimetype": "text/x-python",
   "name": "python",
   "nbconvert_exporter": "python",
   "pygments_lexer": "ipython3",
   "version": "3.11.5"
  }
 },
 "nbformat": 4,
 "nbformat_minor": 5
}
